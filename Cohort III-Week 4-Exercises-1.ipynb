{
 "cells": [
  {
   "cell_type": "markdown",
   "metadata": {},
   "source": [
    "# Learning"
   ]
  },
  {
   "cell_type": "markdown",
   "metadata": {},
   "source": [
    "When considering a machine learning problem, we must always think of how much __prior\n",
    "knowledge__ we have on the problem. Prior knowledge can come in the form of domain\n",
    "expertise, expert interviews, result of EDAs and simulations, or simply assumptions\n",
    "that encode our biases into the model. No prior knowledge means that we must train our model without any assumptions.\n",
    "Complete prior knowledge means that we do not need machine learning, and we can\n",
    "solve the problem completely by writing a computer program. Machine learning comes\n",
    "in between these two extremes.\n",
    "\n",
    "For each situation below, determine whether no prior knowledge, some prior knowledge,\n",
    "or complete prior knowledge is used to solve the problem. (Don't worry too much about getting this right; the solutions might include some\n",
    "prior knowledge (e.g. biases) on the part of the author!)"
   ]
  },
  {
   "cell_type": "markdown",
   "metadata": {},
   "source": [
    "1.  To check whether an integer $n$ is prime, we divide it by all positive integers\n",
    "$2 \\leq d < n$."
   ]
  },
  {
   "cell_type": "markdown",
   "metadata": {},
   "source": [
    "2.  To check whether an email is spam or not, we use the labels provided by users\n",
    "which have identified past emails as spam or not spam."
   ]
  },
  {
   "cell_type": "markdown",
   "metadata": {},
   "source": [
    "3. Your stomach is hurting. You remember that six hours ago you ate nachos.\n",
    "You haven't eaten anything else in the last 12 hours.\n",
    "So you guess that the nachos must have already been bad when you ate it\n",
    "(you got food poisoned)."
   ]
  },
  {
   "cell_type": "markdown",
   "metadata": {},
   "source": [
    "4. Your stomach is hurting. You remember that six hours ago you ate nachos.\n",
    "You also remember that you presented in front of around 50 important people during\n",
    "that day. Finally, you remember that you typed four spaces instead of one tab.\n",
    "You investigate all three possibilities."
   ]
  },
  {
   "cell_type": "markdown",
   "metadata": {},
   "source": [
    "5. On the Titanic dataset, you guess, based on your knowledge of western culture, that women and children should have a higher survival rate. Indeed after doing an EDA, your guess is confirmed. During feature engineering, you placed more weight in the gender and age as predictive features of your dataset. "
   ]
  },
  {
   "cell_type": "markdown",
   "metadata": {},
   "source": [
    "# Supervised learning"
   ]
  },
  {
   "cell_type": "markdown",
   "metadata": {},
   "source": [
    "In a supervised learning algorithm, we are given a data set in the form of $(\\mathbf{x}_i, y_i)$ where\n",
    "$\\mathbf{x}_i$ is the feature vector of the $i$th training example, and $y_i$ is its corresponding label.\n",
    "\n",
    "Consider the classification problem of predicting whether an incoming email is spam\n",
    "or ham (not spam). We are given a training set of emails labeled as spam or ham.\n",
    "Which of the following statements are true about the features and labels?"
   ]
  },
  {
   "cell_type": "markdown",
   "metadata": {},
   "source": [
    "1. Adding more features would make our model more accurate, therefore better.\n",
    "    For example, time/date email was received, number of words in the email,\n",
    "    number of periods, number of exclamation points, etc."
   ]
  },
  {
   "cell_type": "markdown",
   "metadata": {},
   "source": [
    "2. For 100% of spam emails, we saw that \"a\" was used more than 5 times.\n",
    "    Thus we classify all emails with \"a\" used more than 5 times as spam."
   ]
  },
  {
   "cell_type": "markdown",
   "metadata": {},
   "source": [
    "3. The labels given to emails in the training set are all true."
   ]
  },
  {
   "cell_type": "markdown",
   "metadata": {},
   "source": [
    "4. Assume that we consider the number of times each word appears in the email as features.\n",
    "Then not all words are equally important as labels. Some words are more predictive, e.g.\n",
    "\"Prince\", \"Nigeria\"."
   ]
  },
  {
   "cell_type": "markdown",
   "metadata": {},
   "source": [
    "# Train-Test split"
   ]
  },
  {
   "cell_type": "markdown",
   "metadata": {},
   "source": [
    "In this example, we split a data set into two sets, one for training and one for testing. (This example is from A. Geron, _Hands-On Machine Learning_ (2019) p. 58). Suppose by doing an expert interview, we find that `median_income` in a district is highly predictive of housing prices. We create a new feature which puts districts into 5 categories based on `median_income`."
   ]
  },
  {
   "cell_type": "code",
   "execution_count": 42,
   "metadata": {
    "ExecuteTime": {
     "end_time": "2019-10-12T19:44:33.107210Z",
     "start_time": "2019-10-12T19:44:32.984223Z"
    }
   },
   "outputs": [],
   "source": [
    "import pandas as pd\n",
    "from sklearn.model_selection import train_test_split\n",
    "%matplotlib inline\n",
    "\n",
    "housing = pd.read_csv('housing.csv')\n",
    "\n",
    "# we make a new feature income_cat which simply places an entry into 5 income classes.\n",
    "housing[\"income_cat\"] = pd.cut(housing[\"median_income\"], \n",
    "                               bins=[0., 1.5, 3.0, 4.5, 6., np.inf], \n",
    "                               labels=[1, 2, 3, 4, 5])\n",
    "\n",
    "train_set, test_set = train_test_split(housing, test_size=0.2, random_state=42) # split 80-20"
   ]
  },
  {
   "cell_type": "code",
   "execution_count": 43,
   "metadata": {
    "ExecuteTime": {
     "end_time": "2019-10-12T19:44:34.924825Z",
     "start_time": "2019-10-12T19:44:34.568250Z"
    },
    "scrolled": true
   },
   "outputs": [
    {
     "data": {
      "text/plain": [
       "<matplotlib.axes._subplots.AxesSubplot at 0x1a11c0bc90>"
      ]
     },
     "execution_count": 43,
     "metadata": {},
     "output_type": "execute_result"
    },
    {
     "data": {
      "image/png": "[encoded data removed]",
      "text/plain": [
       "<Figure size 432x288 with 1 Axes>"
      ]
     },
     "metadata": {
      "needs_background": "light"
     },
     "output_type": "display_data"
    }
   ],
   "source": [
    "train_set[\"income_cat\"].hist()"
   ]
  },
  {
   "cell_type": "code",
   "execution_count": 44,
   "metadata": {
    "ExecuteTime": {
     "end_time": "2019-10-12T19:44:35.680865Z",
     "start_time": "2019-10-12T19:44:35.434000Z"
    },
    "scrolled": false
   },
   "outputs": [
    {
     "data": {
      "text/plain": [
       "<matplotlib.axes._subplots.AxesSubplot at 0x1a11c0b2d0>"
      ]
     },
     "execution_count": 44,
     "metadata": {},
     "output_type": "execute_result"
    },
    {
     "data": {
      "image/png": "[encoded data removed]",
      "text/plain": [
       "<Figure size 432x288 with 1 Axes>"
      ]
     },
     "metadata": {
      "needs_background": "light"
     },
     "output_type": "display_data"
    }
   ],
   "source": [
    "test_set[\"income_cat\"].hist()"
   ]
  },
  {
   "cell_type": "markdown",
   "metadata": {},
   "source": [
    "Looks okay visually. However, looking at the exact numbers we see that the proportions for the `income_cat` are not the same between the train and test sets.\n",
    "\n",
    "__Exercise__: Provide the (pandas) code that would give the normalized numerical values of the two histograms above. __HINT:__ The output you should get for the train and test set respectively are:\n",
    "\n",
    "| | | \n",
    "|:-:|:-:|\n",
    "|3 |   0.35017|\n",
    "|2 |   0.32116|\n",
    "|4 |   0.17569|\n",
    "|5 |   0.11422|\n",
    "|1 |   0.03876|\n",
    "|Name:income_cat,| dtype: float64|\n",
    "\n",
    "\n",
    "And for the test set:\n",
    "\n",
    "| | | \n",
    "|:-:|:-:|\n",
    "|3 |   0.352229|\n",
    "|2 |   0.309593|\n",
    "|4 |   0.178779|\n",
    "|5 |   0.115310|\n",
    "|1 |   0.044089|\n",
    "|Name:income_cat,| dtype: float64|\n",
    "\n",
    "The test set must simulate what you would encounter in real life. Therefore, the distribution of our train set must be as close as possible to the distribution of the test set. A difference between the distributions of train and test sets is called __sampling bias__. For large data sets, a fully randomized sampling as we did would result in negligible sampling bias. The `housing` dataset contains only 20,640 entries, to counteract sampling bias for this data set one may use a [stratified split](https://scikit-learn.org/stable/modules/generated/sklearn.model_selection.StratifiedShuffleSplit.html)."
   ]
  },
  {
   "cell_type": "markdown",
   "metadata": {},
   "source": [
    "# Curse of Dimensionality\n",
    "\n",
    "We use high dimensions for models which require a large number of features.\n",
    "But there is one problem: we are cursed!\n",
    "In machine learning, we learn of the __curse of dimensionality__.\n",
    "Basically, things are sticky in high dimensional spaces -\n",
    "our intuitions which are adapted to 2D and 3D, fail for 1,000D.\n",
    "This is one of the motivations for doing dimensionality reduction (e.g. PCA), which\n",
    "we will learn next week!\n",
    "\n",
    "In this exercise, we explore one aspect of the curse of dimensionality.\n",
    "The following problem asks us to find the probability of a random point to lie on the\n",
    "interior of a $d$-dimensional hypercube, for $d = 2,3, 1000$."
   ]
  },
  {
   "cell_type": "code",
   "execution_count": 7,
   "metadata": {
    "ExecuteTime": {
     "end_time": "2019-10-12T18:15:41.645903Z",
     "start_time": "2019-10-12T18:15:41.629102Z"
    }
   },
   "outputs": [
    {
     "data": {
      "image/png": "[encoded data removed]",
      "text/plain": [
       "<IPython.core.display.Image object>"
      ]
     },
     "execution_count": 7,
     "metadata": {},
     "output_type": "execute_result"
    }
   ],
   "source": [
    "from IPython.display import Image\n",
    "Image('unit-square.png')"
   ]
  },
  {
   "cell_type": "markdown",
   "metadata": {},
   "source": [
    "(a) Consider a unit square (1x1 cube in 2-d). What is the probability of finding a random point that is 0.1\n",
    "units away from all four sides?\n"
   ]
  },
  {
   "cell_type": "markdown",
   "metadata": {},
   "source": [
    "(b) Consider a unit cube (1x1x1 cube in 3-d). What is the probability of finding a random point that is 0.1\n",
    "units away from all six sides?"
   ]
  },
  {
   "cell_type": "markdown",
   "metadata": {},
   "source": [
    "(c) Consider a unit 1,000-hypercube. What is the probability of finding a random point that\n",
    "is 0.1 units away from every side of the hypercube?"
   ]
  },
  {
   "cell_type": "markdown",
   "metadata": {},
   "source": [
    "__HINT__: This can be solved by using principles of probability, or by running simulations in `numpy.random`!\n",
    "\n",
    "The results must show that for increasing dimensions points are less likely to be\n",
    "inside a unit cube and more likely to be spread out near the borders.\n",
    "This can have negative effects for the performance of models. For example, we will see\n",
    "later that the k-nearest neighbors classifier performs worse for increasing-dimensions."
   ]
  },
  {
   "cell_type": "code",
   "execution_count": null,
   "metadata": {},
   "outputs": [],
   "source": []
  }
 ],
 "metadata": {
  "kernelspec": {
   "display_name": "Python 3",
   "language": "python",
   "name": "python3"
  },
  "language_info": {
   "codemirror_mode": {
    "name": "ipython",
    "version": 3
   },
   "file_extension": ".py",
   "mimetype": "text/x-python",
   "name": "python",
   "nbconvert_exporter": "python",
   "pygments_lexer": "ipython3",
   "version": "3.7.4"
  },
  "toc": {
   "base_numbering": 1,
   "nav_menu": {},
   "number_sections": true,
   "sideBar": true,
   "skip_h1_title": false,
   "title_cell": "Table of Contents",
   "title_sidebar": "Contents",
   "toc_cell": false,
   "toc_position": {},
   "toc_section_display": true,
   "toc_window_display": false
  },
  "varInspector": {
   "cols": {
    "lenName": 16,
    "lenType": 16,
    "lenVar": 40
   },
   "kernels_config": {
    "python": {
     "delete_cmd_postfix": "",
     "delete_cmd_prefix": "del ",
     "library": "var_list.py",
     "varRefreshCmd": "print(var_dic_list())"
    },
    "r": {
     "delete_cmd_postfix": ") ",
     "delete_cmd_prefix": "rm(",
     "library": "var_list.r",
     "varRefreshCmd": "cat(var_dic_list()) "
    }
   },
   "types_to_exclude": [
    "module",
    "function",
    "builtin_function_or_method",
    "instance",
    "_Feature"
   ],
   "window_display": false
  }
 },
 "nbformat": 4,
 "nbformat_minor": 2
}
